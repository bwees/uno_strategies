{
 "cells": [
  {
   "cell_type": "code",
   "execution_count": 1,
   "metadata": {},
   "outputs": [],
   "source": [
    "import matplotlib.pyplot as plt\n",
    "import numpy as np"
   ]
  },
  {
   "cell_type": "markdown",
   "metadata": {},
   "source": [
    "# Random (Control)"
   ]
  },
  {
   "cell_type": "code",
   "execution_count": 2,
   "metadata": {},
   "outputs": [
    {
     "name": "stdout",
     "output_type": "stream",
     "text": [
      "Mean: 0.26694000000000057\n",
      "Standard deviation: 0.04471058487651442\n"
     ]
    },
    {
     "data": {
      "image/png": "[encoded data removed]",
      "text/plain": [
       "<Figure size 432x288 with 1 Axes>"
      ]
     },
     "metadata": {
      "needs_background": "light"
     },
     "output_type": "display_data"
    }
   ],
   "source": [
    "# print the mean and standard deviation of the win rates\n",
    "with open('results/random.txt', 'r') as f:\n",
    "    win_rates = [float(line.strip()) for line in f]\n",
    "        \n",
    "print('Mean:', sum(win_rates) / len(win_rates))\n",
    "print('Standard deviation:', np.std(win_rates))\n",
    "\n",
    "\n",
    "# plot histogram of win rates\n",
    "plt.hist(win_rates, bins=80)\n",
    "plt.show()"
   ]
  },
  {
   "cell_type": "code",
   "execution_count": 4,
   "metadata": {},
   "outputs": [
    {
     "name": "stdout",
     "output_type": "stream",
     "text": [
      "Mean: 0.27695000000000025\n",
      "Standard deviation: 0.04443419291491633\n"
     ]
    },
    {
     "data": {
      "image/png": "[encoded data removed]",
      "text/plain": [
       "<Figure size 432x288 with 1 Axes>"
      ]
     },
     "metadata": {
      "needs_background": "light"
     },
     "output_type": "display_data"
    }
   ],
   "source": [
    "# print the mean and standard deviation of the win rates\n",
    "with open('results/highest_first.txt', 'r') as f:\n",
    "    win_rates = [float(line.strip()) for line in f]\n",
    "    \n",
    "print('Mean:', sum(win_rates) / len(win_rates))\n",
    "print('Standard deviation:', np.std(win_rates))\n",
    "\n",
    "# plot curve of win rates\n",
    "plt.hist(win_rates, bins=80)\n",
    "plt.show()"
   ]
  },
  {
   "cell_type": "code",
   "execution_count": null,
   "metadata": {},
   "outputs": [],
   "source": []
  }
 ],
 "metadata": {
  "interpreter": {
   "hash": "609f66940a5fd164594a45235e4f73a3b549bc9121547521c740c5547a4f1046"
  },
  "kernelspec": {
   "display_name": "Python 3.9.7 64-bit (system)",
   "language": "python",
   "name": "python3"
  },
  "language_info": {
   "codemirror_mode": {
    "name": "ipython",
    "version": 3
   },
   "file_extension": ".py",
   "mimetype": "text/x-python",
   "name": "python",
   "nbconvert_exporter": "python",
   "pygments_lexer": "ipython3",
   "version": "3.9.7"
  },
  "orig_nbformat": 4
 },
 "nbformat": 4,
 "nbformat_minor": 2
}
