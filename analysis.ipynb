{
 "cells": [
  {
   "cell_type": "code",
   "execution_count": 1,
   "metadata": {},
   "outputs": [],
   "source": [
    "import matplotlib.pyplot as plt\n",
    "import numpy as np"
   ]
  },
  {
   "cell_type": "markdown",
   "metadata": {},
   "source": [
    "# Random (Control)"
   ]
  },
  {
   "cell_type": "code",
   "execution_count": 2,
   "metadata": {},
   "outputs": [
    {
     "name": "stdout",
     "output_type": "stream",
     "text": [
      "Mean: 0.25028\n",
      "Standard deviation: 0.04320557371451049\n"
     ]
    },
    {
     "data": {
      "image/png": "[encoded data removed]",
      "text/plain": [
       "<Figure size 432x288 with 1 Axes>"
      ]
     },
     "metadata": {
      "needs_background": "light"
     },
     "output_type": "display_data"
    }
   ],
   "source": [
    "# print the mean and standard deviation of the win rates\n",
    "with open('results/random.txt', 'r') as f:\n",
    "    win_rates = [float(line.strip()) for line in f]\n",
    "        \n",
    "print('Mean:', sum(win_rates) / len(win_rates))\n",
    "print('Standard deviation:', np.std(win_rates))\n",
    "\n",
    "\n",
    "# plot histogram of win rates\n",
    "plt.hist(win_rates, bins=80)\n",
    "plt.show()"
   ]
  },
  {
   "cell_type": "code",
   "execution_count": 2,
   "metadata": {},
   "outputs": [
    {
     "name": "stdout",
     "output_type": "stream",
     "text": [
      "Mean: 0.22741999999999976\n",
      "Standard deviation: 0.04146014471754772\n"
     ]
    },
    {
     "data": {
      "image/png": "[encoded data removed]",
      "text/plain": [
       "<Figure size 432x288 with 1 Axes>"
      ]
     },
     "metadata": {
      "needs_background": "light"
     },
     "output_type": "display_data"
    }
   ],
   "source": [
    "# print the mean and standard deviation of the win rates\n",
    "with open('results/switch_colors.txt', 'r') as f:\n",
    "    win_rates = [float(line.strip()) for line in f]\n",
    "    \n",
    "print('Mean:', sum(win_rates) / len(win_rates))\n",
    "print('Standard deviation:', np.std(win_rates))\n",
    "\n",
    "# plot curve of win rates\n",
    "plt.hist(win_rates, bins=80)\n",
    "plt.show()"
   ]
  },
  {
   "cell_type": "markdown",
   "metadata": {},
   "source": [
    "# Disadvantaged"
   ]
  },
  {
   "cell_type": "code",
   "execution_count": 4,
   "metadata": {},
   "outputs": [
    {
     "data": {
      "image/png": "[encoded data removed]",
      "text/plain": [
       "<Figure size 432x288 with 1 Axes>"
      ]
     },
     "metadata": {
      "needs_background": "light"
     },
     "output_type": "display_data"
    }
   ],
   "source": [
    "# import results/p_0.txt and results/p_1.txt and results/p_2.txt and results/p_3.txt\n",
    "# and plot the win rates of each player\n",
    "with open('results/p_0.txt', 'r') as f:\n",
    "    p0_win_rates = [float(line.strip()) for line in f]\n",
    "with open('results/p_1.txt', 'r') as f:\n",
    "    p1_win_rates = [float(line.strip()) for line in f]\n",
    "with open('results/p_2.txt', 'r') as f:\n",
    "    p2_win_rates = [float(line.strip()) for line in f]\n",
    "with open('results/p_3.txt', 'r') as f:\n",
    "    p3_win_rates = [float(line.strip()) for line in f]\n",
    "\n",
    "# calculate means\n",
    "p0_mean = sum(p0_win_rates) / len(p0_win_rates)\n",
    "p1_mean = sum(p1_win_rates) / len(p1_win_rates)\n",
    "p2_mean = sum(p2_win_rates) / len(p2_win_rates)\n",
    "p3_mean = sum(p3_win_rates) / len(p3_win_rates)\n",
    "\n",
    "# make bar graph of means\n",
    "plt.bar(['Player 1', 'Player 2', 'Player 3', 'Player 4'], [p0_mean, p1_mean, p2_mean, p3_mean])\n",
    "# put means at top of each bar\n",
    "for i, v in enumerate([p0_mean, p1_mean, p2_mean, p3_mean]):\n",
    "    plt.text(i, v, str(round(v, 2)), ha='center', va='bottom')\n",
    "    \n",
    "plt.show()"
   ]
  },
  {
   "cell_type": "code",
   "execution_count": null,
   "metadata": {},
   "outputs": [],
   "source": []
  }
 ],
 "metadata": {
  "interpreter": {
   "hash": "aee8b7b246df8f9039afb4144a1f6fd8d2ca17a180786b69acc140d282b71a49"
  },
  "kernelspec": {
   "display_name": "Python 3.9.9 64-bit",
   "language": "python",
   "name": "python3"
  },
  "language_info": {
   "codemirror_mode": {
    "name": "ipython",
    "version": 3
   },
   "file_extension": ".py",
   "mimetype": "text/x-python",
   "name": "python",
   "nbconvert_exporter": "python",
   "pygments_lexer": "ipython3",
   "version": "3.9.9"
  },
  "orig_nbformat": 4
 },
 "nbformat": 4,
 "nbformat_minor": 2
}
